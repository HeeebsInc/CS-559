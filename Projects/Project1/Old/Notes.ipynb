{
 "cells": [
  {
   "cell_type": "markdown",
   "metadata": {},
   "source": [
    "#### General EDA NOTES\n",
    "- columns `[var1, var2, var3]` have **_bi-modal distribution_**\n",
    "- columns `[var4, var5, var6, var6, var8, var9]` contain values within a tight range\n",
    "    - In each columns, value are never between .35 - .65\n",
    "- There is an **equal** distribution in the Target variable - no need for balancing/sampling\n",
    "    \n",
    "- **Correlation between features + target (`Class`)**\n",
    "    - `var0` is highly correlated (.99)\n",
    "    - `var1` minimal correlation (-.046)\n",
    "    - `var2` slightly correlated (.14)\n",
    "    - `var3` moderately correlated (-.25)\n",
    "    - `var4` highly correlated (-.65)\n",
    "    - `var5` moderately correlated (-.39)\n",
    "    - `var6` slightly correlated (-.13)\n",
    "    - `var7` slightly correlated (.13)\n",
    "    - `var8` moderately correlated (.39)\n",
    "    - `var9` highly correlated (.65)\n",
    "\n",
    "- **Correlation between features**\n",
    "    - `var1` and `var6` are moderate-highly correlated (.44)\n",
    "    - `var1` and `var7` are moderately correlated (-.26)\n",
    "    - `var1` and `var8` are moderately correlated (-.25)\n",
    "    - `var2` and `var4` are moderatley correlated (.44)\n",
    "    - `var2` and `var8` are moderately correlated (.37)\n",
    "    - `var2` and `var9` are moderately correlated (-.42)\n",
    "    - `var3` and `var4` are moderately correlated (.29)\n",
    "    - `var3` and `var5` are moderately correlated (-.29)\n",
    "    - `var3` and `var6` are moderately-highly correlated (.43)\n",
    "    - `var3` and `var7` are moderately-highly correlated (-.41)\n",
    "    - `var3` and `var8` are moderately correlated (.4)\n",
    "    - `var3` and `var9` are moderately correlated (-.42)\n",
    "    - `[var5, var6, var7, var8, var9]` have equal correlation to each other (-.2)\n",
    "- **Removing Outliers**\n",
    "    - Based on the box plots, the only columns that contain outliers are `[var4, var5, var6, var7, var8, var9]`, with all outliers being above .35 \n",
    "    - After removing rows where values are over .35 in these columns (independently), there was a negative impact on the correlation of the other features.  Thus, removing outliers is not a good direction.\n",
    "    - `var4, var5, var6, var7, var8, var9` are all **_left skewed_**, and have similarities with their correlation to the target variable\n",
    "        - `var4 and var9` have inverse correlation with target (.65 and -.65)\n",
    "        - `var6 and var7` have inverse correlation with target (-.13 and .13)\n",
    "        - `var5 and var8` have inverse corelation with target (-.39 and .39)\n",
    "        - looking at the distribution of classes within each bound of these columns, we found that there is only ever a single Class value found above .6 \n",
    "        - In every column, there is only a single class value found in the the upper bound.  This class value is not repeated across any of the other columns.  For example:\n",
    "            - `var4` = 1\n",
    "            - `var5` = 2\n",
    "            - `var6` = 3\n",
    "            - `var7` = 4 \n",
    "            - `var8` = 5\n",
    "            - `var9` = 6"
   ]
  },
  {
   "cell_type": "markdown",
   "metadata": {},
   "source": [
    "### EDA\n",
    "- `var4, var5, var6, var7, var8, var9` are all **_left skewed_**, and have similarities with their correlation to the target variable\n",
    "        - `var4 and var9` have inverse correlation with target (.65 and -.65)\n",
    "        - `var6 and var7` have inverse correlation with target (-.13 and .13)\n",
    "        - `var5 and var8` have inverse corelation with target (-.39 and .39)\n",
    "        - looking at the distribution of classes within each bound of these columns, we found that there is only ever a single Class value found above .6 \n",
    "        - In every column, there is only a single class value found in the the upper bound.  This class value is not repeated across any of the other columns.  For example:\n",
    "            - `var4` = 1\n",
    "            - `var5` = 2\n",
    "            - `var6` = 3\n",
    "            - `var7` = 4 \n",
    "            - `var8` = 5\n",
    "            - `var9` = 6\n",
    "- **Feature Selection**\n",
    "    - based on the correlation matrix, not all features `[var0, var1, var2, var3, var4, var5, var6, var7, var8, var9]` are useful\n",
    "    - because we know some of these features are correlated with each other, we can reduce the features because: \n",
    "        - removed `var0` because it is not actually a feature but rather a enumeration of the data (index)\n",
    "        - removed `var1` because it has minimal correlation with the target and moderate correlation to other features (avoid multicollinearity)\n",
    "        - removed `var2 and var3` because it has moderate correlation to other features (multicollinearity)\n",
    "    - given `var4, var5, var6, var7, var8, var9`, we performed PCA analysis to reduce the dimensionality of the data to 5.  At `n_components = 5`, we still preserved 100% of the data's variability.  \n",
    "    - **_Feature Columns_** = `[pca0, pca1, pca2, pca3, pca4]`\n",
    "\n",
    "## KMeans Results\n",
    "- When fitting the feature columns `[pca0, pca1, pca2, pca3, pca4]`, we received an accuracy of 100%.  "
   ]
  },
  {
   "cell_type": "code",
   "execution_count": null,
   "metadata": {},
   "outputs": [],
   "source": []
  }
 ],
 "metadata": {
  "kernelspec": {
   "display_name": "Python 3 (ipykernel)",
   "language": "python",
   "name": "python3"
  },
  "language_info": {
   "codemirror_mode": {
    "name": "ipython",
    "version": 3
   },
   "file_extension": ".py",
   "mimetype": "text/x-python",
   "name": "python",
   "nbconvert_exporter": "python",
   "pygments_lexer": "ipython3",
   "version": "3.8.5"
  }
 },
 "nbformat": 4,
 "nbformat_minor": 4
}
