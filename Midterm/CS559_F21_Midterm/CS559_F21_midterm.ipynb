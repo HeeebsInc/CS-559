{
 "cells": [
  {
   "cell_type": "markdown",
   "metadata": {},
   "source": [
    "**<center>CS559 Fall 2021 Midterm</center>**\n",
    "**<center>Due: in 90 minutes <center>**\n",
    "\n",
    "The second part of the midterm contains the computations to solve machine learning problems. It is an open-notes exam and students can only use lecture notes and demonstration files provided from the class. \n",
    "Students are not allowed to use any other modules than $\\color{red}{\\textbf{Numpy, Pandas, and Matplot}}$. \n",
    "\n",
    "Although there are no plotting questions, students are welcome to display plots to confirm their answers. \n",
    "\n",
    "Students must submit the exam **90 minutes from the start**. \n",
    "\n",
    "Good luck!"
   ]
  },
  {
   "cell_type": "code",
   "execution_count": 3,
   "metadata": {},
   "outputs": [],
   "source": [
    "import numpy as np\n",
    "import pandas as pd\n",
    "import matplotlib.pyplot as plt"
   ]
  },
  {
   "cell_type": "markdown",
   "metadata": {},
   "source": [
    "## Question 1 [20 pts]\n",
    "\n",
    "This question is a gradient descent problem and students are required to find a weight vector of the actual quadratic function of the provided data, `gradient_question.csv`. The dataset has two columns, x and y, where y is the true target variable. "
   ]
  },
  {
   "cell_type": "markdown",
   "metadata": {},
   "source": [
    "### 1-1.\n",
    "Write a short function called `my_gradient()` that optimizes the weight vector using the squared error function and returns the weight vector when the acceptance of error is below 0.05 and the learning rate $\\eta$ is 0.001. [12 pts] "
   ]
  },
  {
   "cell_type": "code",
   "execution_count": 23,
   "metadata": {},
   "outputs": [
    {
     "name": "stdout",
     "output_type": "stream",
     "text": [
      "[-11.68028539]\n"
     ]
    },
    {
     "data": {
      "image/png": "[encoded data removed]",
      "text/plain": [
       "<Figure size 432x288 with 1 Axes>"
      ]
     },
     "metadata": {
      "needs_background": "light"
     },
     "output_type": "display_data"
    }
   ],
   "source": [
    "def my_gradient(x, y, iterations = 500, learning_rate = .001):\n",
    "    n = 1 #number of features\n",
    "    m = x.shape[0] #number of samples\n",
    "    w = np.ones(1)\n",
    "    cost = []\n",
    "    for i in range(0, iterations):\n",
    "        y_predict = x**2 + x * w \n",
    "        y_error = y_predict - y\n",
    "        mse = (1/2 * m) * np.sum(y_error ** 2)\n",
    "        g = (1/ m) * x.T.dot(y_error)\n",
    "        w = w - learning_rate * g\n",
    "        cost.append(mse)\n",
    "        \n",
    "    plt.plot(list(range(0, iterations)), cost)\n",
    "    plt.xlabel('Iterations')\n",
    "    plt.ylabel('MSE')\n",
    "    plt.title('MSE - Gradient Descent')\n",
    "    \n",
    "    return w\n",
    "data = pd.read_csv('gradient_question.csv')\n",
    "x = data.x.values\n",
    "y = data.y.values\n",
    "weights = my_gradient(x, y)\n",
    "print(weights)"
   ]
  },
  {
   "cell_type": "markdown",
   "metadata": {},
   "source": [
    "### 1-2.\n",
    "\n",
    "Using the optimized weight vector, find the local maximum. [8 pts]"
   ]
  },
  {
   "cell_type": "code",
   "execution_count": 28,
   "metadata": {},
   "outputs": [],
   "source": [
    "# ### code starts here. \n",
    "# print(weights)\n",
    "# print(x)\n",
    "\n",
    "# x_where_slope_zero = np.linalg.solve(weights, 0)\n",
    "# print(x_where_slope_zero)"
   ]
  },
  {
   "cell_type": "markdown",
   "metadata": {},
   "source": [
    "## Question 2 [20 pts]\n",
    "\n",
    "This question is a probability classification problem. Assuming that training a mixture of Gaussians model by maximum likelihood, students will find P(1|0.75) using data `Probability_Classification.csv`. In the dataset, there are two columns, **x** and **class**, where the **class** is the binary class.  "
   ]
  },
  {
   "cell_type": "markdown",
   "metadata": {},
   "source": [
    "### 2-1\n",
    "Find the prior, expected value, and variance for each class. [12 pts]"
   ]
  },
  {
   "cell_type": "code",
   "execution_count": 65,
   "metadata": {},
   "outputs": [
    {
     "name": "stdout",
     "output_type": "stream",
     "text": [
      "{0: {'variance': 1.2037062152420224e-35, 'prior': 0.02}, 1: {'variance': 4.81482486096809e-35, 'prior': 0.04}}\n"
     ]
    }
   ],
   "source": [
    "### code starts here\n",
    "df = pd.read_csv('Probability_Classification.csv')\n",
    "x = df.x.values\n",
    "c = df['class'].values\n",
    "\n",
    "df['prob'] = prob = (1 + c) / (c.sum() + len(c))\n",
    "\n",
    "class_dict = {}\n",
    "for cl in df['class'].unique():\n",
    "    subset_df = df[df['class'] == cl]\n",
    "    var = np.var(subset_df.prob.values)\n",
    "    class_dict[cl] = {'variance': var, 'prior': subset_df.iloc[0].prob}\n",
    "    \n",
    "print(class_dict)"
   ]
  },
  {
   "cell_type": "markdown",
   "metadata": {},
   "source": [
    "### 2-2\n",
    "Find the probability P(1|0.75)? [8 pts]"
   ]
  },
  {
   "cell_type": "code",
   "execution_count": 81,
   "metadata": {},
   "outputs": [
    {
     "name": "stdout",
     "output_type": "stream",
     "text": [
      "P(1|0.75) 1.0\n"
     ]
    }
   ],
   "source": [
    "### code starts here\n",
    "subset_df = df[df['class'] == 1]\n",
    "prob = 1 / np.sqrt(2 * np.pi * class_dict[1]['variance']**2)\n",
    "prob = np.exp(-subset_df.prob.mean() ** 2/2*class_dict[1]['variance']**2)\n",
    "print('P(1|0.75)', prob)"
   ]
  },
  {
   "cell_type": "markdown",
   "metadata": {},
   "source": [
    "### Question 3 [20 pts]\n",
    "\n",
    "This question is a linear classification problem. Students are going to build the binary SVM and Logistic Regression to classify the data set, `LR_SVM.csv`. In the dataset, there are four columns, **x1**, **x2**, **y**, and **a**, where **y** is the class and **a** is the Lagrange Multiplier. You can attack the problem by "
   ]
  },
  {
   "cell_type": "markdown",
   "metadata": {},
   "source": [
    "### 3-1\n",
    "Using the weight vector $\\vec{w}=[-5.653, 1.199, 0.822]$, build a Logisitc Regression Classifier, $\\sigma(\\vec{w}\\cdot \\vec{x})\\ge0.5$, and classify each $\\vec{x}=[x1,x2]^T$. Please do not copy and use the implemented logistic regression from Assignment 2. Determine which class $\\vec{x}=[3,3]^T$ belongs to. [10 pts]"
   ]
  },
  {
   "cell_type": "code",
   "execution_count": 66,
   "metadata": {},
   "outputs": [
    {
     "name": "stdout",
     "output_type": "stream",
     "text": [
      "X = [3, 3] belongs to class: 0\n"
     ]
    }
   ],
   "source": [
    "### code starts here\n",
    "data = pd.read_csv('LR_SVM.csv')\n",
    "X = data[['x1','x2']].values\n",
    "y = data.y.values\n",
    "a = data.a.values\n",
    "w = np.array([-5.653, 1.199])\n",
    "b = 0.822\n",
    "\n",
    "def logistic_regression(X, w, b):\n",
    "    predict = np.dot(X, w) + b\n",
    "    predict = 1.0 /(1 + np.exp(-predict))\n",
    "    if len(predict.shape) != 0:\n",
    "        predict = [1 if i >= .5 else 0 for i in predict]\n",
    "    else:\n",
    "        predict = 1 if predict >= .5 else 0\n",
    "    return predict\n",
    "\n",
    "log_predict = logistic_regression(X, w, b)\n",
    "X_test = np.array([3, 3])\n",
    "class_predict = logistic_regression(X_test, w, b)\n",
    "print(f'X = [3, 3] belongs to class: {class_predict}')"
   ]
  },
  {
   "cell_type": "markdown",
   "metadata": {},
   "source": [
    "### 3-2\n",
    "\n",
    "You are going to build a SVM classifier  by following:\n",
    "a) Find the equation of the SVM hyperplane h(x) and classify each $\\vec{x}$, b) calculate the distance of each point from the hyperplane and print the support vectors, and c) classify the point $\\vec{x}=[3,3]^T$ using h(x) from a). [10 pts]"
   ]
  },
  {
   "cell_type": "code",
   "execution_count": 73,
   "metadata": {},
   "outputs": [
    {
     "name": "stdout",
     "output_type": "stream",
     "text": [
      "Support Vector [-5.65504  1.19736]\n",
      "Distance [19.3129 17.994   0.      0.     22.4822  0.     15.1675  0.794   0.\n",
      " 22.619 ]\n"
     ]
    }
   ],
   "source": [
    "### code starts here\n",
    "\n",
    "def svm(X, y, w, b):\n",
    "    distances = 1 - y * (np.dot(X, w) + b)\n",
    "    distances[distances < 0] = 0\n",
    "    dw = np.zeros(len(w))\n",
    "    for idx, dist in enumerate(distances):\n",
    "        if max(0, dist) == 0:\n",
    "            dw2 = w\n",
    "        else:\n",
    "            dw2 = w - (.001 * y[idx] * X[idx])\n",
    "        dw += dw2\n",
    "    dw = dw/ len(y)\n",
    "    return dw, distances\n",
    "vectors, distances = svm(X, y, w, b)\n",
    "print('Support Vector', vectors)\n",
    "print(f'Distance', distances)"
   ]
  },
  {
   "cell_type": "code",
   "execution_count": 77,
   "metadata": {},
   "outputs": [
    {
     "name": "stdout",
     "output_type": "stream",
     "text": [
      "Distance of Point 1.0\n"
     ]
    }
   ],
   "source": [
    "distance_of_point = 1 - class_predict * (np.dot(X_test, w) + b)\n",
    "print(f'Distance of Point', distance_of_point)"
   ]
  }
 ],
 "metadata": {
  "kernelspec": {
   "display_name": "Python 3 (ipykernel)",
   "language": "python",
   "name": "python3"
  },
  "language_info": {
   "codemirror_mode": {
    "name": "ipython",
    "version": 3
   },
   "file_extension": ".py",
   "mimetype": "text/x-python",
   "name": "python",
   "nbconvert_exporter": "python",
   "pygments_lexer": "ipython3",
   "version": "3.8.5"
  }
 },
 "nbformat": 4,
 "nbformat_minor": 5
}
